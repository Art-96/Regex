{
 "cells": [
  {
   "cell_type": "code",
   "execution_count": 1,
   "metadata": {},
   "outputs": [],
   "source": [
    "import re"
   ]
  },
  {
   "cell_type": "code",
   "execution_count": 3,
   "metadata": {},
   "outputs": [],
   "source": [
    "example=\"The bat took a bite out of the big boring apple.\"\\\n",
    "        \"The bat took a bite out of the big apple\"\\\n",
    "        \"The bat took a bite out of the big boring apple.\"\\\n",
    "        \"There is no theory of evolution. Only a list of animals Chuck Norris allows to live.\"\\\n",
    "        \"The big bag of bits was bugged.\"\\\n",
    "        \"You can live like a king but make sure it isn't a lie.\"\\\n",
    "        \"When today is over Ted will have a tedious time tidying up.\"\\\n",
    "        \"Room Allocations: G4 G9 F2 H1 L0 K7 M9\"\\\n",
    "        \"A random set of characters: y, w, a, r, f, 4, 9, 6, 3, p, x, t\"\\\n",
    "        \"When today is over Ted will have a tedious time tidying up.\"\\\n",
    "        \"Are you looking at the lock or the silk\"\\\n",
    "        \"Surely this regular expression should match this.\"\\\n",
    "        \"Today I earned $58327 but lost $3826.\"\\\n",
    "        \"13 cats escaped from the 5 cages at the vet's clinic.\"\\\n",
    "        \"bat\"\\\n",
    "        \"Now that's the truth and you know it\"\\\n",
    "        \"John Reginald Smith is sometime just called John Smith.\"\\\n",
    "        \"The server has an address of 10.18.0.20 and the printer has an address of 10.18.0.116.\"\\\n",
    "        \"Harold Smith went to meet John Smith but John Smith was not there.\"\\\n",
    "        \"Harold Smith has two dogs, one cat and three birds\"\\\n",
    "        \"This looks promising with 4021 but unfortunately also matches 4000\""
   ]
  },
  {
   "cell_type": "code",
   "execution_count": 4,
   "metadata": {},
   "outputs": [
    {
     "name": "stdout",
     "output_type": "stream",
     "text": [
      "['big', 'big', 'big', 'big', 'bag', 'bug']\n"
     ]
    }
   ],
   "source": [
    "regex=re.findall(r'b.g', example)\n",
    "print(regex)"
   ]
  },
  {
   "cell_type": "code",
   "execution_count": 5,
   "metadata": {},
   "outputs": [
    {
     "name": "stdout",
     "output_type": "stream",
     "text": [
      "['live', 'live', 'like']\n"
     ]
    }
   ],
   "source": [
    "regex1=re.findall(r'l..e', example)\n",
    "print(regex1)"
   ]
  },
  {
   "cell_type": "code",
   "execution_count": 6,
   "metadata": {},
   "outputs": [
    {
     "name": "stdout",
     "output_type": "stream",
     "text": [
      "['tod', 'ted', 'tod', 'ted']\n"
     ]
    }
   ],
   "source": [
    "regex=re.findall(r't[eo]d', example)\n",
    "print(regex)"
   ]
  },
  {
   "cell_type": "code",
   "execution_count": 7,
   "metadata": {},
   "outputs": [
    {
     "name": "stdout",
     "output_type": "stream",
     "text": [
      "['G4', 'G9', 'F2', 'H1', 'L0', 'K7', 'M9']\n"
     ]
    }
   ],
   "source": [
    "regex=re.findall(r'[A-Z][0-9]', example)\n",
    "print(regex)"
   ]
  },
  {
   "cell_type": "code",
   "execution_count": 8,
   "metadata": {},
   "outputs": [
    {
     "name": "stdout",
     "output_type": "stream",
     "text": [
      "['4', '9', '2', '1', '7', '9', '4', '9', '6', '3', '5', '8', '3', '2', '7', '3', '8', '2', '6', '1', '3', '5', '1', '1', '8', '2', '1', '1', '8', '1', '1', '6', '4', '2', '1', '4']\n"
     ]
    }
   ],
   "source": [
    "regex=re.findall(r'[1-9]', example)\n",
    "print(regex)"
   ]
  },
  {
   "cell_type": "code",
   "execution_count": 9,
   "metadata": {},
   "outputs": [
    {
     "name": "stdout",
     "output_type": "stream",
     "text": [
      "['e', 'b', 'a', 'a', 'b', 'e', 'f', 'e', 'b', 'b', 'a', 'e', 'e', 'b', 'a', 'a', 'b', 'e', 'f', 'e', 'b', 'a', 'e', 'e', 'b', 'a', 'a', 'b', 'e', 'f', 'e', 'b', 'b', 'a', 'e', 'e', 'e', 'e', 'f', 'e', 'a', 'f', 'a', 'a', 'c', 'a', 'e', 'e', 'b', 'b', 'a', 'f', 'b', 'a', 'b', 'e', 'd', 'c', 'a', 'e', 'e', 'a', 'b', 'a', 'e', 'e', 'a', 'e', 'e', 'd', 'a', 'e', 'e', 'd', 'a', 'e', 'a', 'e', 'd', 'e', 'd', 'c', 'a', '4', '2', '1', 'a', 'd', 'e', 'f', 'c', 'a', 'a', 'c', 'e', 'a', 'f', '4', '3', 'x', 'e', 'd', 'a', 'e', 'e', 'd', 'a', 'e', 'a', 'e', 'd', 'e', 'd', 'e', 'a', 'e', 'c', 'e', 'e', 'e', 'a', 'e', 'x', 'e', 'd', 'a', 'c', 'd', 'a', 'e', 'a', 'e', 'd', '5', '3', '2', 'b', '3', '2', '1', '3', 'c', 'a', 'e', 'c', 'a', 'e', 'd', 'f', 'e', '5', 'c', 'a', 'e', 'a', 'e', 'e', 'c', 'c', 'b', 'a', 'a', 'e', 'a', 'd', 'e', 'a', 'd', 'e', 'e', 'c', 'a', 'e', 'd', 'e', 'e', 'e', 'a', 'a', 'a', 'd', 'd', 'e', 'f', '1', '1', '2', 'a', 'd', 'e', 'e', 'a', 'a', 'a', 'd', 'd', 'e', 'f', '1', '1', '1', '1', 'a', 'd', 'e', 'e', 'e', 'b', 'a', 'e', 'e', 'a', 'd', 'a', 'd', 'e', 'c', 'a', 'a', 'd', 'e', 'e', 'b', 'd', '4', '2', '1', 'b', 'f', 'a', 'e', 'a', 'a', 'c', 'e', '4']\n"
     ]
    }
   ],
   "source": [
    "regex=re.findall(r'[1-5a-fx]', example)\n",
    "print(regex)"
   ]
  },
  {
   "cell_type": "code",
   "execution_count": 10,
   "metadata": {},
   "outputs": [
    {
     "name": "stdout",
     "output_type": "stream",
     "text": [
      "['l', 'l', 'l', 'l', 'l', 'l', 'l', 'l', 'lo', 'l', 'l', 'l', 'l', 'l', 'l', 'l', 'lo', 'l', 'l', 'loo', 'lo', 'l', 'l', 'l', 'l', 'lo', 'l', 'l', 'l', 'l', 'l', 'l', 'loo', 'l', 'l']\n"
     ]
    }
   ],
   "source": [
    "regex=re.findall(r'lo*', example)\n",
    "print(regex)"
   ]
  },
  {
   "cell_type": "code",
   "execution_count": 11,
   "metadata": {},
   "outputs": [
    {
     "name": "stdout",
     "output_type": "stream",
     "text": [
      "['$5832', '$3826']\n"
     ]
    }
   ],
   "source": [
    "regex=re.findall(r'\\$\\d{4}', example)\n",
    "print(regex)"
   ]
  },
  {
   "cell_type": "code",
   "execution_count": 12,
   "metadata": {},
   "outputs": [
    {
     "name": "stdout",
     "output_type": "stream",
     "text": [
      "['took', 'the', 'took', 'the', 'took', 'the', 'theory', 'to', 'today', 'tedious', 'time', 'tidying', 'tWhen', 'today', 'tedious', 'time', 'tidying', 'the', 'the', 'this', 'this', 'the', 'the', 'that', 'the', 'truth', 'the', 'to', 'there', 'two', 'three']\n"
     ]
    }
   ],
   "source": [
    "regex=re.findall(r'\\bt\\w+\\b', example)\n",
    "print(regex)"
   ]
  },
  {
   "cell_type": "code",
   "execution_count": 13,
   "metadata": {},
   "outputs": [
    {
     "name": "stdout",
     "output_type": "stream",
     "text": [
      "['cat', 'cat', 'dog', 'cat', 'bird']\n"
     ]
    }
   ],
   "source": [
    "regex=re.findall(r'dog|cat|bird', example)\n",
    "print(regex)"
   ]
  },
  {
   "cell_type": "code",
   "execution_count": 14,
   "metadata": {},
   "outputs": [
    {
     "name": "stdout",
     "output_type": "stream",
     "text": [
      "<re.Match object; span=(1023, 1027), match='4021'>\n"
     ]
    }
   ],
   "source": [
    "regex=re.search(r'\\b4([1-9]\\d\\d|\\d[1-9]\\d|\\d\\d[1-9])\\b', example)\n",
    "print(regex)"
   ]
  },
  {
   "cell_type": "code",
   "execution_count": null,
   "metadata": {},
   "outputs": [],
   "source": []
  }
 ],
 "metadata": {
  "kernelspec": {
   "display_name": "Python 3",
   "language": "python",
   "name": "python3"
  },
  "language_info": {
   "codemirror_mode": {
    "name": "ipython",
    "version": 3
   },
   "file_extension": ".py",
   "mimetype": "text/x-python",
   "name": "python",
   "nbconvert_exporter": "python",
   "pygments_lexer": "ipython3",
   "version": "3.7.3"
  }
 },
 "nbformat": 4,
 "nbformat_minor": 2
}
